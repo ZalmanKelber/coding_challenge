{
 "cells": [
  {
   "cell_type": "code",
   "execution_count": 434,
   "metadata": {},
   "outputs": [
    {
     "data": {
      "text/plain": [
       "'42185949519471465987895329603424057926592888845433031954288070910725718835289651849057213656239245495689048336286728413829691349222237847731577104622749979563009666'"
      ]
     },
     "execution_count": 434,
     "metadata": {},
     "output_type": "execute_result"
    }
   ],
   "source": [
    "# Problem: write a function that takes a large integer n (up to 10^100) and returns the sum of the floor all integers \n",
    "# less than or equal to n multiplied by the square root of 2\n",
    "\n",
    "import math\n",
    "\n",
    "sqrt_2_str = '1414213562373095048801688724209698078569671875376948073176679737990732478462107038850387534327641572735013846230912297024924836055850737212644121497099935831413222665927505592755799950501152782060571470109559971605970274534596862014728517418640889198609552329230484308714321450839762603627995'\n",
    "\n",
    "def add_strings(n1, n2):\n",
    "    n1, n2 = n1.zfill(max(len(n1), len(n2))), n2.zfill(max(len(n1), len(n2)))\n",
    "    carry = 0\n",
    "    sums = []\n",
    "    for i in range(len(n1) - 1, -1, -1):\n",
    "        digit_1, digit_2 = int(n1[i]), int(n2[i])\n",
    "        digits_sum = digit_1 + digit_2 + carry \n",
    "        carry = int(digits_sum // 10)\n",
    "        sums.append(str(int(digits_sum % 10)))\n",
    "    if carry > 0:\n",
    "        sums.append('1')\n",
    "    sums.reverse()\n",
    "    return ''.join(sums)\n",
    "        \n",
    "def subtract_strings(n1, n2):\n",
    "    n1, n2 = n1.zfill(max(len(n1), len(n2))), n2.zfill(max(len(n1), len(n2)))\n",
    "    carry = 0\n",
    "    diffs = []\n",
    "    for i in range(len(n1) - 1, -1, -1):\n",
    "        digit_1, digit_2 = int(n1[i]), int(n2[i])\n",
    "        diff = digit_1 - digit_2 - carry\n",
    "        carry = 1 if diff < 0 else 0\n",
    "        diffs.append(str((diff + 10) % 10))\n",
    "    diffs.reverse()\n",
    "    while len(diffs) > 1 and diffs[0] == '0':\n",
    "        diffs = diffs[1:]\n",
    "    return ''.join(diffs)\n",
    "\n",
    "def multiply_strings(n1, n2):\n",
    "    rows = []\n",
    "    for i in range(len(n2)):\n",
    "        zero_padding = ''.join(['0'] * i)\n",
    "        digit_2 = int(n2[-i - 1])\n",
    "        products = []\n",
    "        carry = 0\n",
    "        for j in range(len(n1) - 1, -1, -1):\n",
    "            digit_1 = int(n1[j])\n",
    "            product = digit_1 * digit_2 + carry \n",
    "            carry = int(product // 10)\n",
    "            products.append(str(int(product % 10)))\n",
    "        if carry > 0:\n",
    "            products.append(str(carry))\n",
    "        products.reverse()\n",
    "        rows.append(''.join(products) + zero_padding)\n",
    "    row_sum = '0'\n",
    "    for row in rows:\n",
    "        row_sum = add_strings(row_sum, row)\n",
    "    while len(row_sum) > 1 and row_sum[0] == '0':\n",
    "        row_sum = row_sum[1:]\n",
    "    return row_sum\n",
    "\n",
    "def divide_even_string_by_two(n):\n",
    "    product = multiply_strings(n, '5')\n",
    "    if len(product) > 1:\n",
    "        product = product[:-1]\n",
    "    return product\n",
    "\n",
    "def multiply_by_root_2_and_round_down(n):\n",
    "    product = multiply_strings(sqrt_2_str, n)[:1 - len(sqrt_2_str)]\n",
    "    if len(product) > 0:\n",
    "        return product \n",
    "    return '0'\n",
    "\n",
    "first_99 = [math.floor(i * math.sqrt(2)) for i in range(101)]\n",
    "first_99_answers = [int(sum(first_99[:i + 1])) for i in range(100)]\n",
    "\n",
    "def solution(s):\n",
    "    if len(s) < 3:\n",
    "        return str(first_99_answers[int(s)])\n",
    "    highest_floor = multiply_by_root_2_and_round_down(s) # math.floor(s * math.sqrt(2))\n",
    "    cum_sum_1 = divide_even_string_by_two(multiply_strings(highest_floor, add_strings(highest_floor, '1'))) # highest_floor * (highest_floor + 1) // 2\n",
    "    seq_length = subtract_strings(add_strings(highest_floor, '1'), s) # highest_floor + 1 - s\n",
    "    seq_sub_sum = multiply_strings(seq_length, subtract_strings(seq_length, '1')) # seq_length * (seq_length = 1)\n",
    "    sub_problem = solution(subtract_strings(seq_length, '1')) # solution(seq_length - 1)\n",
    "    return subtract_strings(cum_sum_1, add_strings(seq_sub_sum, sub_problem)) # cum_sum_1 - (seq_sub_sum + sub_problem)\n"
   ]
  }
 ],
 "metadata": {
  "kernelspec": {
   "display_name": "Python 3",
   "language": "python",
   "name": "python3"
  },
  "language_info": {
   "codemirror_mode": {
    "name": "ipython",
    "version": 3
   },
   "file_extension": ".py",
   "mimetype": "text/x-python",
   "name": "python",
   "nbconvert_exporter": "python",
   "pygments_lexer": "ipython3",
   "version": "3.11.0"
  }
 },
 "nbformat": 4,
 "nbformat_minor": 2
}
