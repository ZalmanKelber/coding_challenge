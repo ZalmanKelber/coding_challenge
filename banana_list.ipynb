{
 "cells": [
  {
   "cell_type": "code",
   "execution_count": 59,
   "metadata": {},
   "outputs": [
    {
     "name": "stdout",
     "output_type": "stream",
     "text": [
      "0\n",
      "2\n",
      "1\n",
      "2\n",
      "0\n",
      "20\n"
     ]
    }
   ],
   "source": [
    "# Problem: write a function that takes a list of the numbers of bananas that various people have\n",
    "# Return the lowest number of people that cannot bet their bananas against another player indefinitely\n",
    "# if they are paired so as to maximize the number of people playing indefinitely.  The player with the \n",
    "# lowest number of bananas will always bet all of their bananas and win.  Players stop playing when\n",
    "# they have the same number of bananas\n",
    "\n",
    "inputs = [\n",
    "    [1, 7, 3, 21, 13, 19],\n",
    "    [1, 1],\n",
    "    [1],\n",
    "    [3, 13, 29, 61, 125, 253],\n",
    "    [32] * 20 + [64] * 20 + [1] * 20 + [7] * 20 + [9] * 20,\n",
    "    [13] * 10 + [3] * 10\n",
    "]\n",
    "\n",
    "powers_of_two = [2 ** i for i in range(31)]\n",
    "\n",
    "def solution(banana_list):\n",
    "    n = len(banana_list)\n",
    "    edge_lists = [[] for i in range(n)]\n",
    "    # determine edges\n",
    "    for i in range(n):\n",
    "        for j in range(i):\n",
    "            if i in edge_lists[j]:\n",
    "                edge_lists[i].append(j)\n",
    "        for j in range(i + 1, n):\n",
    "            if banana_list[i] + banana_list[j] not in powers_of_two and banana_list[i] != banana_list[j]:\n",
    "                edge_lists[i].append(j)\n",
    "    num_edges = {}\n",
    "    l_max = 0\n",
    "    # print(edge_lists)\n",
    "    edge_sets = [set(l) for l in edge_lists]\n",
    "    for i in range(n):\n",
    "        l = len(edge_lists[i])\n",
    "        if l in num_edges:\n",
    "            num_edges[l].add(i)\n",
    "        else:\n",
    "            num_edges[l] = { i }\n",
    "        l_max = l if l > l_max else l_max\n",
    "    num_edges = [num_edges[i] if i in num_edges else set() for i in range(l_max + 1)]\n",
    "    # print(num_edges)\n",
    "    unmatched = set()\n",
    "    while len(num_edges) > 0:\n",
    "        unmatched = unmatched.union(num_edges[0])\n",
    "        num_edges[0] = set()\n",
    "        if len(num_edges) > 1:\n",
    "            i = 0\n",
    "            while len(num_edges[i]) == 0:\n",
    "                i += 1\n",
    "            min_pair = None \n",
    "            min_connections = n\n",
    "            for v1 in num_edges[i]:\n",
    "                for v2 in edge_sets[v1]:\n",
    "                    if len(edge_sets[v2]) < min_connections:\n",
    "                        min_connections = len(edge_sets[v2])\n",
    "                        min_pair = (v1, v2)\n",
    "            num_edges[i].remove(min_pair[0])\n",
    "            num_edges[len(edge_sets[min_pair[1]])].remove(min_pair[1])\n",
    "            for v1 in min_pair:\n",
    "                for v2 in edge_sets[v1]:\n",
    "                    if v2 not in min_pair:\n",
    "                        num_edges[len(edge_sets[v2])].remove(v2)\n",
    "                        num_edges[len(edge_sets[v2]) - 1].add(v2)\n",
    "                        edge_sets[v2].remove(v1)\n",
    "        while len(num_edges) > 0 and len(num_edges[-1]) == 0:\n",
    "            num_edges.pop()\n",
    "    return len(unmatched)\n",
    "for i in range(len(inputs)):\n",
    "    print(solution(inputs[i]))"
   ]
  }
 ],
 "metadata": {
  "kernelspec": {
   "display_name": "Python 3",
   "language": "python",
   "name": "python3"
  },
  "language_info": {
   "codemirror_mode": {
    "name": "ipython",
    "version": 3
   },
   "file_extension": ".py",
   "mimetype": "text/x-python",
   "name": "python",
   "nbconvert_exporter": "python",
   "pygments_lexer": "ipython3",
   "version": "3.11.0"
  }
 },
 "nbformat": 4,
 "nbformat_minor": 2
}
